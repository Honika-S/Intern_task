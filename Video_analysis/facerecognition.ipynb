{
  "nbformat": 4,
  "nbformat_minor": 0,
  "metadata": {
    "colab": {
      "provenance": []
    },
    "kernelspec": {
      "name": "python3",
      "display_name": "Python 3"
    },
    "language_info": {
      "name": "python"
    }
  },
  "cells": [
    {
      "cell_type": "code",
      "execution_count": null,
      "metadata": {
        "colab": {
          "base_uri": "https://localhost:8080/"
        },
        "id": "165ipNYe4wQS",
        "outputId": "a0bb64a2-29f6-43e9-f6e7-16aef79116ba"
      },
      "outputs": [
        {
          "output_type": "stream",
          "name": "stdout",
          "text": [
            "Mounted at /content/drive\n"
          ]
        }
      ],
      "source": [
        "from google.colab import drive\n",
        "drive.mount('/content/drive')"
      ]
    },
    {
      "cell_type": "code",
      "source": [
        "\n",
        "!pip install opencv-python\n",
        "\n",
        "# Import libraries\n",
        "import cv2\n",
        "import os\n",
        "\n",
        "# Define video path (replace with your mounted drive path and video name)\n",
        "video_path = \"/content/drive/MyDrive/videoplayback.webm\"\n",
        "\n",
        "# Define output directory for frames (replace with desired name)\n",
        "output_dir = \"/content/drive/MyDrive/intern/imagesface\"\n",
        "\n",
        "# Create the output directory if it doesn't exist\n",
        "if not os.path.exists(output_dir):\n",
        "  os.makedirs(output_dir)\n",
        "cap = cv2.VideoCapture(video_path)\n",
        "# Check if video opened successfully\n",
        "if not cap.isOpened():\n",
        "  print(\"Error opening video!\")\n",
        "  exit()\n",
        "fps = cap.get(cv2.CAP_PROP_FPS)\n",
        "\n",
        "# Define frame count (adjust based on video length and desired frame rate)\n",
        "frame_count = 0\n",
        "target_fps = 1  # One frame per second\n",
        "\n",
        "# Process video frames\n",
        "while True:\n",
        "  # Capture frame-by-frame\n",
        "  ret, frame = cap.read()\n",
        "\n",
        "  # If the frame is read correctly ret is True\n",
        "  if not ret:\n",
        "    break\n",
        "\n",
        "  # Capture frame only if the frame count matches the target frame rate interval\n",
        "  if frame_count % int(fps/target_fps) == 0:\n",
        "    filename = f\"{output_dir}/frame_{frame_count}.jpg\"\n",
        "    cv2.imwrite(filename, frame)\n",
        "  frame_count += 1\n",
        "cap.release()\n",
        "cv2.destroyAllWindows()\n",
        "\n"
      ],
      "metadata": {
        "id": "sURRUPioyPTL"
      },
      "execution_count": null,
      "outputs": []
    },
    {
      "cell_type": "code",
      "source": [
        "import os\n",
        "import cv2\n",
        "import dlib\n",
        "from collections import Counter\n",
        "\n",
        "# Function to detect faces in a frame using dlib\n",
        "def detect_faces_dlib(frame):\n",
        "    detector = dlib.get_frontal_face_detector()\n",
        "    faces = detector(frame, 1)\n",
        "    return faces\n",
        "\n",
        "# Directory containing frames\n",
        "frames_dir = \"/content/drive/MyDrive/imagesface/frames\"\n",
        "\n",
        "# Initialize a Counter to count face occurrences\n",
        "face_counter = Counter()\n",
        "\n",
        "# Iterate over frames in the directory\n",
        "for filename in os.listdir(frames_dir):\n",
        "    if filename.endswith(\".jpg\"):  # Assuming frames are stored as JPEG images\n",
        "        filepath = os.path.join(frames_dir, filename)\n",
        "        frame = cv2.imread(filepath)\n",
        "        if frame is not None:\n",
        "            # Detect faces in the frame\n",
        "            faces = detect_faces_dlib(frame)\n",
        "            # Increment the count for each detected face\n",
        "            for face in faces:\n",
        "                face_counter[str(face)] += 1\n",
        "\n",
        "# Determination of most occurring face\n",
        "most_occurring_face, occurrences = face_counter.most_common(1)[0]\n",
        "\n",
        "print(\"Most occurring face:\", most_occurring_face)\n",
        "print(\"Occurrences:\", occurrences)"
      ],
      "metadata": {
        "colab": {
          "base_uri": "https://localhost:8080/"
        },
        "id": "19E0RNyK7u9H",
        "outputId": "97d13ee2-b306-4e60-f245-866cfd308bbf"
      },
      "execution_count": null,
      "outputs": [
        {
          "output_type": "stream",
          "name": "stdout",
          "text": [
            "Most occurring face: [(269, 2) (305, 38)]\n",
            "Occurrences: 5\n"
          ]
        }
      ]
    }
  ]
}